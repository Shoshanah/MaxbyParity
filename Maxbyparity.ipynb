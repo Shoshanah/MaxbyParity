{
  "nbformat": 4,
  "nbformat_minor": 0,
  "metadata": {
    "colab": {
      "provenance": []
    },
    "kernelspec": {
      "name": "python3",
      "display_name": "Python 3"
    },
    "language_info": {
      "name": "python"
    }
  },
  "cells": [
    {
      "cell_type": "code",
      "execution_count": 14,
      "metadata": {
        "id": "E0tuTct0tdcI"
      },
      "outputs": [],
      "source": [
        "def max_possible_number(num_str):\n",
        "  \"\"\"Converts a string of digits to the max possible number\n",
        "  by moving numbers of the same parity.\n",
        "\n",
        "  Args:\n",
        "    num_str: The input string of digits.\n",
        "\n",
        "  Returns:\n",
        "    The maximum possible number as a string.\n",
        "  \"\"\"\n",
        "  digits_only = ''.join(filter(str.isdigit, num_str))\n",
        "  num_digits = len(digits_only)\n",
        "  print(f\"Number of digits after removing letters: {num_digits}\")\n",
        "  even_digits = sorted([digit for digit in digits_only if int(digit) % 2 == 0], reverse=True)\n",
        "  odd_digits = sorted([digit for digit in digits_only if int(digit) % 2 != 0], reverse=True)\n",
        "  even_idx = 0\n",
        "  odd_idx = 0\n",
        "  result = ''\n",
        "  digit_index = 0\n",
        "\n",
        "  for char in num_str:\n",
        "    if char.isdigit():\n",
        "      if int(digits_only[digit_index]) % 2 == 0:\n",
        "        result += even_digits[even_idx]\n",
        "        even_idx += 1\n",
        "      else:\n",
        "        result += odd_digits[odd_idx]\n",
        "        odd_idx += 1\n",
        "      digit_index += 1\n",
        "  return result\n",
        "\n"
      ]
    },
    {
      "cell_type": "code",
      "source": [
        "# Example usage\n",
        "num_str = \"a38b647g9e8ewat37geag69gggewawettrrr82sss6jsdf463\"\n",
        "max_num = max_possible_number(num_str)\n",
        "print(f\"The maximum possible number for '{num_str}' is: {max_num}\")"
      ],
      "metadata": {
        "colab": {
          "base_uri": "https://localhost:8080/"
        },
        "id": "Fej2CCuvuR1v",
        "outputId": "940850cf-ffc2-46cd-8a7a-8023b6acafaf"
      },
      "execution_count": 15,
      "outputs": [
        {
          "output_type": "stream",
          "name": "stdout",
          "text": [
            "Number of digits after removing letters: 17\n",
            "The maximum possible number for 'a38b647g9e8ewat37geag69gggewawettrrr82sss6jsdf463' is: 98889767363664423\n"
          ]
        }
      ]
    }
  ]
}